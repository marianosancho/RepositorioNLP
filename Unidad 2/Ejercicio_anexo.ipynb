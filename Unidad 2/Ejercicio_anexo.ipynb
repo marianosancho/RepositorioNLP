{
 "cells": [
  {
   "cell_type": "markdown",
   "metadata": {},
   "source": [
    "\n",
    "## Ejercicio 1\n",
    "\n",
    "Crea un dataset con las sinopsis y otros datos relevantes de las biografías de la página:\n",
    "\n",
    "https://ww3.lectulandia.com/genero/biografia/\n",
    "\n",
    "Luego, desarrolla un programa que recomiende biografías basándose en un input del usuario. El programa deberá tener dos enfoques:\n",
    "- **Coincidencia exacta**: recomendar biografías basadas en palabras clave o entidades específicas del input.\n",
    "- **Modelo de embeddings**: utilizar un modelo de embeddings para analizar las sinopsis y ofrecer recomendaciones a partir de un input más general.\n",
    "\n",
    "\n",
    "*Ejemplo*: Si el usuario ingresa \"quiero leer una biografía de un deportista\", el programa debe devolver biografías relacionadas con el deporte."
   ]
  },
  {
   "cell_type": "code",
   "execution_count": 28,
   "metadata": {},
   "outputs": [],
   "source": [
    "import requests\n",
    "from bs4 import BeautifulSoup\n",
    "import pandas as pd"
   ]
  },
  {
   "cell_type": "code",
   "execution_count": 9,
   "metadata": {},
   "outputs": [],
   "source": [
    "url = \"https://ww3.lectulandia.com/genero/biografia/page/\""
   ]
  },
  {
   "cell_type": "markdown",
   "metadata": {},
   "source": [
    "\n",
    "### Carga del contenido en un dataset"
   ]
  },
  {
   "cell_type": "code",
   "execution_count": 33,
   "metadata": {},
   "outputs": [],
   "source": [
    "titulos = []\n",
    "autores = []\n",
    "descripciones = []\n",
    "\n",
    "for i in range(1,17):\n",
    "\n",
    "    # Lectura por página\n",
    "    response = requests.get(f\"{url}{i}\")\n",
    "    soup = BeautifulSoup(response.text, 'html.parser')\n",
    "    articles = soup.find_all('article', class_ = 'card')\n",
    "   \n",
    "    # Buscamos y guardamos poara cada articulo su autor, sinopsis y titulo.\n",
    "    for index, article in enumerate(articles):\n",
    "        \n",
    "        title = article.find('h2').find('a', class_='title').get_text(strip=True)\n",
    "        titulos.append(title)\n",
    "\n",
    "        author = article.find('div', class_= 'subdetail').find('a').get_text(strip=True)\n",
    "        autores.append(author)\n",
    "\n",
    "        description_tag = article.find('div', class_='description').find('p')\n",
    "        description = description_tag.get_text(strip=True) if description_tag else 'Sin descripción'\n",
    "        descripciones.append(description)\n",
    "\n",
    "\n",
    "\n",
    "df: pd.DataFrame = pd.DataFrame(columns = ['Titulo', 'Autor', 'Descripcion'],\n",
    "                                data = list(zip( titulos, autores, descripciones)))    "
   ]
  },
  {
   "cell_type": "code",
   "execution_count": 35,
   "metadata": {},
   "outputs": [
    {
     "data": {
      "text/html": [
       "<div>\n",
       "<style scoped>\n",
       "    .dataframe tbody tr th:only-of-type {\n",
       "        vertical-align: middle;\n",
       "    }\n",
       "\n",
       "    .dataframe tbody tr th {\n",
       "        vertical-align: top;\n",
       "    }\n",
       "\n",
       "    .dataframe thead th {\n",
       "        text-align: right;\n",
       "    }\n",
       "</style>\n",
       "<table border=\"1\" class=\"dataframe\">\n",
       "  <thead>\n",
       "    <tr style=\"text-align: right;\">\n",
       "      <th></th>\n",
       "      <th>Titulo</th>\n",
       "      <th>Autor</th>\n",
       "      <th>Descripcion</th>\n",
       "    </tr>\n",
       "  </thead>\n",
       "  <tbody>\n",
       "    <tr>\n",
       "      <th>0</th>\n",
       "      <td>Aceros rotos</td>\n",
       "      <td>Fernando Martínez Laínez</td>\n",
       "      <td>Aceros Rotos es la primera parte de una trilog...</td>\n",
       "    </tr>\n",
       "    <tr>\n",
       "      <th>1</th>\n",
       "      <td>John Locke</td>\n",
       "      <td>Benoît Lefèvre</td>\n",
       "      <td>Este libro es una guía práctica y accesible pa...</td>\n",
       "    </tr>\n",
       "    <tr>\n",
       "      <th>2</th>\n",
       "      <td>Lo que quiero es comprender</td>\n",
       "      <td>Hannah Arendt</td>\n",
       "      <td>Hannah Arendt no escribió una autobiografía, n...</td>\n",
       "    </tr>\n",
       "    <tr>\n",
       "      <th>3</th>\n",
       "      <td>Los perros ladran</td>\n",
       "      <td>Truman Capote</td>\n",
       "      <td>Aunque Truman Capote no llegó a escribir su au...</td>\n",
       "    </tr>\n",
       "    <tr>\n",
       "      <th>4</th>\n",
       "      <td>El médico de Auschwitz</td>\n",
       "      <td>Szymon Nowak</td>\n",
       "      <td>Enero de 1945. Hay 4.800 prisioneros en Auschw...</td>\n",
       "    </tr>\n",
       "  </tbody>\n",
       "</table>\n",
       "</div>"
      ],
      "text/plain": [
       "                        Titulo                     Autor  \\\n",
       "0                 Aceros rotos  Fernando Martínez Laínez   \n",
       "1                   John Locke            Benoît Lefèvre   \n",
       "2  Lo que quiero es comprender             Hannah Arendt   \n",
       "3            Los perros ladran             Truman Capote   \n",
       "4       El médico de Auschwitz              Szymon Nowak   \n",
       "\n",
       "                                         Descripcion  \n",
       "0  Aceros Rotos es la primera parte de una trilog...  \n",
       "1  Este libro es una guía práctica y accesible pa...  \n",
       "2  Hannah Arendt no escribió una autobiografía, n...  \n",
       "3  Aunque Truman Capote no llegó a escribir su au...  \n",
       "4  Enero de 1945. Hay 4.800 prisioneros en Auschw...  "
      ]
     },
     "execution_count": 35,
     "metadata": {},
     "output_type": "execute_result"
    }
   ],
   "source": [
    "df.head(5)"
   ]
  },
  {
   "cell_type": "markdown",
   "metadata": {},
   "source": [
    "\n",
    "### Modelos de busqueda y recomendación "
   ]
  },
  {
   "cell_type": "code",
   "execution_count": 53,
   "metadata": {},
   "outputs": [
    {
     "name": "stdout",
     "output_type": "stream",
     "text": [
      "1      Este libro es una guía práctica y accesible pa...\n",
      "117    Biografía de esta novelista y estrella del gra...\n",
      "Name: Descripcion, dtype: object\n"
     ]
    }
   ],
   "source": [
    "def coincidencias(df : pd.DataFrame, autor: str | None = None, titulo: str | None = None, descripcion: str | None = None):\n",
    "    \n",
    "    libro: list = []\n",
    "    dict_books: dict = {}\n",
    "\n",
    "    if autor is not None: \n",
    "        df = df[df['Autor'].str.contains(autor, case=False, na=False)]\n",
    "        \n",
    "    \n",
    "    # for i, book in enumerate(df): \n",
    "        \n",
    "    #   counter: int = 0 \n",
    "    \n",
    "    return df\n",
    "\n",
    "data = coincidencias(df, autor=\"Benoît\")\n",
    "print(data['Descripcion'])"
   ]
  },
  {
   "cell_type": "code",
   "execution_count": null,
   "metadata": {},
   "outputs": [],
   "source": []
  },
  {
   "cell_type": "code",
   "execution_count": null,
   "metadata": {},
   "outputs": [],
   "source": []
  },
  {
   "cell_type": "markdown",
   "metadata": {},
   "source": [
    "---\n",
    "\n",
    "## Ejercicio 2\n",
    "\n",
    "Realizar una nueva mejora en el programa de lunfardo de la unidad anterior utilizando la potencia semántica  de los embedding de oraciones."
   ]
  }
 ],
 "metadata": {
  "kernelspec": {
   "display_name": ".venv",
   "language": "python",
   "name": "python3"
  },
  "language_info": {
   "codemirror_mode": {
    "name": "ipython",
    "version": 3
   },
   "file_extension": ".py",
   "mimetype": "text/x-python",
   "name": "python",
   "nbconvert_exporter": "python",
   "pygments_lexer": "ipython3",
   "version": "3.10.11"
  }
 },
 "nbformat": 4,
 "nbformat_minor": 2
}
